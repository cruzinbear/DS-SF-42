{
 "cells": [
  {
   "cell_type": "markdown",
   "metadata": {},
   "source": [
    "<img src=\"http://imgur.com/1ZcRyrc.png\" style=\"float: left; margin: 20px; height: 55px\">\n",
    "\n",
    "# DS-SF-42 | Class 8 | Regression - Addressing model fit\n",
    "\n",
    "<br>\n",
    "### _Predicting shots made per game by Kobe Bryant_\n",
    "\n",
    "_Authors: Kiefer Katovich (SF) and Gus Ostow (SF)_\n",
    "\n",
    "---\n",
    "\n",
    "The Kobe shots dataset has hundreds of columns representing different characteristics of each basketball game. Fitting an ordinary linear regression will cause issues that other datasets might not. In this exploration you will be diagnose issues with model fit using regression metrics, train/test split, and cross validation.\n",
    "\n",
    "\n",
    "### Plan\n",
    "\n",
    "Today I am going to flip the script: we are going to start the class with a hands-on partner activity to motivate the day's topic, then address the theory after.\n",
    "\n",
    "1. Motivating the problem\n",
    "3. Slides interlude\n",
    "2. Addressing the problem\n",
    "\n",
    "### Teams\n",
    "\n",
    "<img src=https://i.imgur.com/JI6ydY5.png align=left>\n",
    "<br><br><br><br><br><br><br><br><br><br><br><br><br><br>\n",
    "\n",
    "\n",
    "# <font color=blue>Part I</font> - Motifivating the problem\n",
    "\n",
    "\n",
    "---\n",
    "\n",
    "### 1. Load packages and data"
   ]
  },
  {
   "cell_type": "code",
   "execution_count": 1,
   "metadata": {
    "collapsed": true
   },
   "outputs": [],
   "source": [
    "import numpy as np\n",
    "import pandas as pd\n",
    "\n",
    "from sklearn.linear_model import Ridge, Lasso, ElasticNet, LinearRegression\n",
    "from sklearn.model_selection import cross_val_score, train_test_split\n",
    "\n",
    "import matplotlib\n",
    "import matplotlib.pyplot as plt\n",
    "import seaborn as sns\n",
    "plt.style.use('fivethirtyeight')\n",
    "\n",
    "%config InlineBackend.figure_format = 'retina'\n",
    "%matplotlib inline"
   ]
  },
  {
   "cell_type": "code",
   "execution_count": 2,
   "metadata": {
    "collapsed": true
   },
   "outputs": [],
   "source": [
    "kobe = pd.read_csv('./datasets/kobe_superwide_games.csv')"
   ]
  },
  {
   "cell_type": "markdown",
   "metadata": {},
   "source": [
    "---\n",
    "\n",
    "### 2. Examine the data\n",
    "\n",
    "#### Guiding questions\n",
    "\n",
    "- How many columns are there? \n",
    "- Examine what the observations (rows) and columns represent.\n",
    "- Why does this dataset _feel_ different than the datasets we've touched so far?\n",
    "- What concerns do you have even before fitting your first model?"
   ]
  },
  {
   "cell_type": "code",
   "execution_count": 5,
   "metadata": {},
   "outputs": [
    {
     "data": {
      "text/plain": [
       "645"
      ]
     },
     "execution_count": 5,
     "metadata": {},
     "output_type": "execute_result"
    }
   ],
   "source": [
    "# A: number of columns\n",
    "kobe.shape[1]"
   ]
  },
  {
   "cell_type": "code",
   "execution_count": 7,
   "metadata": {},
   "outputs": [
    {
     "data": {
      "text/plain": [
       "(1558, 645)"
      ]
     },
     "execution_count": 7,
     "metadata": {},
     "output_type": "execute_result"
    }
   ],
   "source": [
    "kobe.shape"
   ]
  },
  {
   "cell_type": "code",
   "execution_count": 8,
   "metadata": {},
   "outputs": [
    {
     "name": "stdout",
     "output_type": "stream",
     "text": [
      "SHOTS_MADE\n",
      "AWAY_GAME\n",
      "SEASON_OPPONENT:atl:1996-97\n",
      "SEASON_OPPONENT:atl:1997-98\n",
      "SEASON_OPPONENT:atl:1999-00\n",
      "SEASON_OPPONENT:atl:2000-01\n",
      "SEASON_OPPONENT:atl:2001-02\n",
      "SEASON_OPPONENT:atl:2002-03\n",
      "SEASON_OPPONENT:atl:2003-04\n",
      "SEASON_OPPONENT:atl:2004-05\n",
      "SEASON_OPPONENT:atl:2005-06\n",
      "SEASON_OPPONENT:atl:2006-07\n",
      "SEASON_OPPONENT:atl:2007-08\n",
      "SEASON_OPPONENT:atl:2008-09\n",
      "SEASON_OPPONENT:atl:2009-10\n",
      "SEASON_OPPONENT:atl:2010-11\n",
      "SEASON_OPPONENT:atl:2011-12\n",
      "SEASON_OPPONENT:atl:2012-13\n",
      "SEASON_OPPONENT:atl:2013-14\n",
      "SEASON_OPPONENT:atl:2014-15\n",
      "SEASON_OPPONENT:atl:2015-16\n",
      "SEASON_OPPONENT:bkn:2012-13\n",
      "SEASON_OPPONENT:bkn:2015-16\n",
      "SEASON_OPPONENT:bos:1996-97\n",
      "SEASON_OPPONENT:bos:1997-98\n",
      "SEASON_OPPONENT:bos:1999-00\n",
      "SEASON_OPPONENT:bos:2001-02\n",
      "SEASON_OPPONENT:bos:2002-03\n",
      "SEASON_OPPONENT:bos:2003-04\n",
      "SEASON_OPPONENT:bos:2004-05\n",
      "SEASON_OPPONENT:bos:2005-06\n",
      "SEASON_OPPONENT:bos:2006-07\n",
      "SEASON_OPPONENT:bos:2007-08\n",
      "SEASON_OPPONENT:bos:2008-09\n",
      "SEASON_OPPONENT:bos:2009-10\n",
      "SEASON_OPPONENT:bos:2010-11\n",
      "SEASON_OPPONENT:bos:2011-12\n",
      "SEASON_OPPONENT:bos:2012-13\n",
      "SEASON_OPPONENT:bos:2014-15\n",
      "SEASON_OPPONENT:bos:2015-16\n",
      "SEASON_OPPONENT:cha:1996-97\n",
      "SEASON_OPPONENT:cha:1997-98\n",
      "SEASON_OPPONENT:cha:1998-99\n",
      "SEASON_OPPONENT:cha:1999-00\n",
      "SEASON_OPPONENT:cha:2000-01\n",
      "SEASON_OPPONENT:cha:2001-02\n",
      "SEASON_OPPONENT:cha:2004-05\n",
      "SEASON_OPPONENT:cha:2005-06\n",
      "SEASON_OPPONENT:cha:2006-07\n",
      "SEASON_OPPONENT:cha:2007-08\n",
      "SEASON_OPPONENT:cha:2008-09\n",
      "SEASON_OPPONENT:cha:2009-10\n",
      "SEASON_OPPONENT:cha:2010-11\n",
      "SEASON_OPPONENT:cha:2011-12\n",
      "SEASON_OPPONENT:cha:2012-13\n",
      "SEASON_OPPONENT:cha:2013-14\n",
      "SEASON_OPPONENT:cha:2014-15\n",
      "SEASON_OPPONENT:cha:2015-16\n",
      "SEASON_OPPONENT:chi:1996-97\n",
      "SEASON_OPPONENT:chi:1997-98\n",
      "SEASON_OPPONENT:chi:1999-00\n",
      "SEASON_OPPONENT:chi:2000-01\n",
      "SEASON_OPPONENT:chi:2001-02\n",
      "SEASON_OPPONENT:chi:2002-03\n",
      "SEASON_OPPONENT:chi:2003-04\n",
      "SEASON_OPPONENT:chi:2004-05\n",
      "SEASON_OPPONENT:chi:2005-06\n",
      "SEASON_OPPONENT:chi:2006-07\n",
      "SEASON_OPPONENT:chi:2007-08\n",
      "SEASON_OPPONENT:chi:2008-09\n",
      "SEASON_OPPONENT:chi:2009-10\n",
      "SEASON_OPPONENT:chi:2010-11\n",
      "SEASON_OPPONENT:chi:2011-12\n",
      "SEASON_OPPONENT:chi:2012-13\n",
      "SEASON_OPPONENT:chi:2015-16\n",
      "SEASON_OPPONENT:cle:1996-97\n",
      "SEASON_OPPONENT:cle:1997-98\n",
      "SEASON_OPPONENT:cle:1998-99\n",
      "SEASON_OPPONENT:cle:1999-00\n",
      "SEASON_OPPONENT:cle:2000-01\n",
      "SEASON_OPPONENT:cle:2001-02\n",
      "SEASON_OPPONENT:cle:2002-03\n",
      "SEASON_OPPONENT:cle:2003-04\n",
      "SEASON_OPPONENT:cle:2004-05\n",
      "SEASON_OPPONENT:cle:2005-06\n",
      "SEASON_OPPONENT:cle:2006-07\n",
      "SEASON_OPPONENT:cle:2007-08\n",
      "SEASON_OPPONENT:cle:2008-09\n",
      "SEASON_OPPONENT:cle:2009-10\n",
      "SEASON_OPPONENT:cle:2010-11\n",
      "SEASON_OPPONENT:cle:2011-12\n",
      "SEASON_OPPONENT:cle:2012-13\n",
      "SEASON_OPPONENT:cle:2014-15\n",
      "SEASON_OPPONENT:cle:2015-16\n",
      "SEASON_OPPONENT:dal:1996-97\n",
      "SEASON_OPPONENT:dal:1997-98\n",
      "SEASON_OPPONENT:dal:1998-99\n",
      "SEASON_OPPONENT:dal:1999-00\n",
      "SEASON_OPPONENT:dal:2000-01\n",
      "SEASON_OPPONENT:dal:2001-02\n",
      "SEASON_OPPONENT:dal:2002-03\n",
      "SEASON_OPPONENT:dal:2003-04\n",
      "SEASON_OPPONENT:dal:2004-05\n",
      "SEASON_OPPONENT:dal:2005-06\n",
      "SEASON_OPPONENT:dal:2006-07\n",
      "SEASON_OPPONENT:dal:2007-08\n",
      "SEASON_OPPONENT:dal:2008-09\n",
      "SEASON_OPPONENT:dal:2009-10\n",
      "SEASON_OPPONENT:dal:2010-11\n",
      "SEASON_OPPONENT:dal:2011-12\n",
      "SEASON_OPPONENT:dal:2012-13\n",
      "SEASON_OPPONENT:dal:2014-15\n",
      "SEASON_OPPONENT:dal:2015-16\n",
      "SEASON_OPPONENT:den:1996-97\n",
      "SEASON_OPPONENT:den:1997-98\n",
      "SEASON_OPPONENT:den:1998-99\n",
      "SEASON_OPPONENT:den:1999-00\n",
      "SEASON_OPPONENT:den:2000-01\n",
      "SEASON_OPPONENT:den:2001-02\n",
      "SEASON_OPPONENT:den:2002-03\n",
      "SEASON_OPPONENT:den:2003-04\n",
      "SEASON_OPPONENT:den:2004-05\n",
      "SEASON_OPPONENT:den:2005-06\n",
      "SEASON_OPPONENT:den:2006-07\n",
      "SEASON_OPPONENT:den:2007-08\n",
      "SEASON_OPPONENT:den:2008-09\n",
      "SEASON_OPPONENT:den:2009-10\n",
      "SEASON_OPPONENT:den:2010-11\n",
      "SEASON_OPPONENT:den:2011-12\n",
      "SEASON_OPPONENT:den:2012-13\n",
      "SEASON_OPPONENT:den:2014-15\n",
      "SEASON_OPPONENT:den:2015-16\n",
      "SEASON_OPPONENT:det:1996-97\n",
      "SEASON_OPPONENT:det:1997-98\n",
      "SEASON_OPPONENT:det:1999-00\n",
      "SEASON_OPPONENT:det:2000-01\n",
      "SEASON_OPPONENT:det:2001-02\n",
      "SEASON_OPPONENT:det:2002-03\n",
      "SEASON_OPPONENT:det:2003-04\n",
      "SEASON_OPPONENT:det:2004-05\n",
      "SEASON_OPPONENT:det:2005-06\n",
      "SEASON_OPPONENT:det:2006-07\n",
      "SEASON_OPPONENT:det:2007-08\n",
      "SEASON_OPPONENT:det:2008-09\n",
      "SEASON_OPPONENT:det:2009-10\n",
      "SEASON_OPPONENT:det:2010-11\n",
      "SEASON_OPPONENT:det:2011-12\n",
      "SEASON_OPPONENT:det:2012-13\n",
      "SEASON_OPPONENT:det:2014-15\n",
      "SEASON_OPPONENT:det:2015-16\n",
      "SEASON_OPPONENT:gsw:1996-97\n",
      "SEASON_OPPONENT:gsw:1997-98\n",
      "SEASON_OPPONENT:gsw:1998-99\n",
      "SEASON_OPPONENT:gsw:1999-00\n",
      "SEASON_OPPONENT:gsw:2000-01\n",
      "SEASON_OPPONENT:gsw:2001-02\n",
      "SEASON_OPPONENT:gsw:2002-03\n",
      "SEASON_OPPONENT:gsw:2003-04\n",
      "SEASON_OPPONENT:gsw:2004-05\n",
      "SEASON_OPPONENT:gsw:2005-06\n",
      "SEASON_OPPONENT:gsw:2006-07\n",
      "SEASON_OPPONENT:gsw:2007-08\n",
      "SEASON_OPPONENT:gsw:2008-09\n",
      "SEASON_OPPONENT:gsw:2009-10\n",
      "SEASON_OPPONENT:gsw:2010-11\n",
      "SEASON_OPPONENT:gsw:2011-12\n",
      "SEASON_OPPONENT:gsw:2012-13\n",
      "SEASON_OPPONENT:gsw:2014-15\n",
      "SEASON_OPPONENT:gsw:2015-16\n",
      "SEASON_OPPONENT:hou:1996-97\n",
      "SEASON_OPPONENT:hou:1997-98\n",
      "SEASON_OPPONENT:hou:1998-99\n",
      "SEASON_OPPONENT:hou:1999-00\n",
      "SEASON_OPPONENT:hou:2000-01\n",
      "SEASON_OPPONENT:hou:2001-02\n",
      "SEASON_OPPONENT:hou:2002-03\n",
      "SEASON_OPPONENT:hou:2003-04\n",
      "SEASON_OPPONENT:hou:2004-05\n",
      "SEASON_OPPONENT:hou:2005-06\n",
      "SEASON_OPPONENT:hou:2006-07\n",
      "SEASON_OPPONENT:hou:2007-08\n",
      "SEASON_OPPONENT:hou:2008-09\n",
      "SEASON_OPPONENT:hou:2009-10\n",
      "SEASON_OPPONENT:hou:2010-11\n",
      "SEASON_OPPONENT:hou:2011-12\n",
      "SEASON_OPPONENT:hou:2012-13\n",
      "SEASON_OPPONENT:hou:2014-15\n",
      "SEASON_OPPONENT:hou:2015-16\n",
      "SEASON_OPPONENT:ind:1996-97\n",
      "SEASON_OPPONENT:ind:1997-98\n",
      "SEASON_OPPONENT:ind:1998-99\n",
      "SEASON_OPPONENT:ind:1999-00\n",
      "SEASON_OPPONENT:ind:2000-01\n",
      "SEASON_OPPONENT:ind:2001-02\n",
      "SEASON_OPPONENT:ind:2002-03\n",
      "SEASON_OPPONENT:ind:2003-04\n",
      "SEASON_OPPONENT:ind:2004-05\n",
      "SEASON_OPPONENT:ind:2005-06\n",
      "SEASON_OPPONENT:ind:2006-07\n",
      "SEASON_OPPONENT:ind:2007-08\n",
      "SEASON_OPPONENT:ind:2008-09\n",
      "SEASON_OPPONENT:ind:2009-10\n",
      "SEASON_OPPONENT:ind:2010-11\n",
      "SEASON_OPPONENT:ind:2011-12\n",
      "SEASON_OPPONENT:ind:2012-13\n",
      "SEASON_OPPONENT:ind:2014-15\n",
      "SEASON_OPPONENT:ind:2015-16\n",
      "SEASON_OPPONENT:lac:1996-97\n",
      "SEASON_OPPONENT:lac:1997-98\n",
      "SEASON_OPPONENT:lac:1998-99\n",
      "SEASON_OPPONENT:lac:1999-00\n",
      "SEASON_OPPONENT:lac:2000-01\n",
      "SEASON_OPPONENT:lac:2001-02\n",
      "SEASON_OPPONENT:lac:2002-03\n",
      "SEASON_OPPONENT:lac:2003-04\n",
      "SEASON_OPPONENT:lac:2004-05\n",
      "SEASON_OPPONENT:lac:2005-06\n",
      "SEASON_OPPONENT:lac:2006-07\n",
      "SEASON_OPPONENT:lac:2007-08\n",
      "SEASON_OPPONENT:lac:2008-09\n",
      "SEASON_OPPONENT:lac:2009-10\n",
      "SEASON_OPPONENT:lac:2010-11\n",
      "SEASON_OPPONENT:lac:2011-12\n",
      "SEASON_OPPONENT:lac:2012-13\n",
      "SEASON_OPPONENT:lac:2014-15\n",
      "SEASON_OPPONENT:lac:2015-16\n",
      "SEASON_OPPONENT:mem:2001-02\n",
      "SEASON_OPPONENT:mem:2002-03\n",
      "SEASON_OPPONENT:mem:2003-04\n",
      "SEASON_OPPONENT:mem:2004-05\n",
      "SEASON_OPPONENT:mem:2005-06\n",
      "SEASON_OPPONENT:mem:2006-07\n",
      "SEASON_OPPONENT:mem:2007-08\n",
      "SEASON_OPPONENT:mem:2008-09\n",
      "SEASON_OPPONENT:mem:2009-10\n",
      "SEASON_OPPONENT:mem:2010-11\n",
      "SEASON_OPPONENT:mem:2011-12\n",
      "SEASON_OPPONENT:mem:2012-13\n",
      "SEASON_OPPONENT:mem:2013-14\n",
      "SEASON_OPPONENT:mem:2014-15\n",
      "SEASON_OPPONENT:mem:2015-16\n",
      "SEASON_OPPONENT:mia:1996-97\n",
      "SEASON_OPPONENT:mia:1997-98\n",
      "SEASON_OPPONENT:mia:1999-00\n",
      "SEASON_OPPONENT:mia:2000-01\n",
      "SEASON_OPPONENT:mia:2001-02\n",
      "SEASON_OPPONENT:mia:2002-03\n",
      "SEASON_OPPONENT:mia:2003-04\n",
      "SEASON_OPPONENT:mia:2004-05\n",
      "SEASON_OPPONENT:mia:2005-06\n",
      "SEASON_OPPONENT:mia:2006-07\n",
      "SEASON_OPPONENT:mia:2007-08\n",
      "SEASON_OPPONENT:mia:2008-09\n",
      "SEASON_OPPONENT:mia:2009-10\n",
      "SEASON_OPPONENT:mia:2010-11\n",
      "SEASON_OPPONENT:mia:2011-12\n",
      "SEASON_OPPONENT:mia:2012-13\n",
      "SEASON_OPPONENT:mia:2014-15\n",
      "SEASON_OPPONENT:mia:2015-16\n",
      "SEASON_OPPONENT:mil:1996-97\n",
      "SEASON_OPPONENT:mil:1997-98\n",
      "SEASON_OPPONENT:mil:1999-00\n",
      "SEASON_OPPONENT:mil:2000-01\n",
      "SEASON_OPPONENT:mil:2001-02\n",
      "SEASON_OPPONENT:mil:2002-03\n",
      "SEASON_OPPONENT:mil:2003-04\n",
      "SEASON_OPPONENT:mil:2004-05\n",
      "SEASON_OPPONENT:mil:2005-06\n",
      "SEASON_OPPONENT:mil:2006-07\n",
      "SEASON_OPPONENT:mil:2007-08\n",
      "SEASON_OPPONENT:mil:2008-09\n",
      "SEASON_OPPONENT:mil:2009-10\n",
      "SEASON_OPPONENT:mil:2010-11\n",
      "SEASON_OPPONENT:mil:2011-12\n",
      "SEASON_OPPONENT:mil:2012-13\n",
      "SEASON_OPPONENT:mil:2015-16\n",
      "SEASON_OPPONENT:min:1996-97\n",
      "SEASON_OPPONENT:min:1997-98\n",
      "SEASON_OPPONENT:min:1998-99\n",
      "SEASON_OPPONENT:min:1999-00\n",
      "SEASON_OPPONENT:min:2000-01\n",
      "SEASON_OPPONENT:min:2001-02\n",
      "SEASON_OPPONENT:min:2002-03\n",
      "SEASON_OPPONENT:min:2003-04\n",
      "SEASON_OPPONENT:min:2004-05\n",
      "SEASON_OPPONENT:min:2005-06\n",
      "SEASON_OPPONENT:min:2006-07\n",
      "SEASON_OPPONENT:min:2007-08\n",
      "SEASON_OPPONENT:min:2008-09\n",
      "SEASON_OPPONENT:min:2009-10\n",
      "SEASON_OPPONENT:min:2010-11\n",
      "SEASON_OPPONENT:min:2011-12\n",
      "SEASON_OPPONENT:min:2012-13\n",
      "SEASON_OPPONENT:min:2014-15\n",
      "SEASON_OPPONENT:min:2015-16\n",
      "SEASON_OPPONENT:njn:1996-97\n",
      "SEASON_OPPONENT:njn:1997-98\n",
      "SEASON_OPPONENT:njn:1999-00\n",
      "SEASON_OPPONENT:njn:2000-01\n",
      "SEASON_OPPONENT:njn:2001-02\n",
      "SEASON_OPPONENT:njn:2002-03\n",
      "SEASON_OPPONENT:njn:2003-04\n",
      "SEASON_OPPONENT:njn:2005-06\n",
      "SEASON_OPPONENT:njn:2006-07\n",
      "SEASON_OPPONENT:njn:2007-08\n",
      "SEASON_OPPONENT:njn:2008-09\n",
      "SEASON_OPPONENT:njn:2009-10\n",
      "SEASON_OPPONENT:njn:2010-11\n",
      "SEASON_OPPONENT:njn:2011-12\n",
      "SEASON_OPPONENT:noh:2002-03\n",
      "SEASON_OPPONENT:noh:2003-04\n",
      "SEASON_OPPONENT:noh:2007-08\n",
      "SEASON_OPPONENT:noh:2008-09\n",
      "SEASON_OPPONENT:noh:2009-10\n",
      "SEASON_OPPONENT:noh:2010-11\n",
      "SEASON_OPPONENT:noh:2011-12\n",
      "SEASON_OPPONENT:noh:2012-13\n",
      "SEASON_OPPONENT:nop:2004-05\n",
      "SEASON_OPPONENT:nop:2005-06\n",
      "SEASON_OPPONENT:nop:2006-07\n",
      "SEASON_OPPONENT:nop:2014-15\n",
      "SEASON_OPPONENT:nop:2015-16\n",
      "SEASON_OPPONENT:nyk:1996-97\n",
      "SEASON_OPPONENT:nyk:1997-98\n",
      "SEASON_OPPONENT:nyk:1998-99\n",
      "SEASON_OPPONENT:nyk:1999-00\n",
      "SEASON_OPPONENT:nyk:2000-01\n",
      "SEASON_OPPONENT:nyk:2001-02\n",
      "SEASON_OPPONENT:nyk:2002-03\n",
      "SEASON_OPPONENT:nyk:2003-04\n",
      "SEASON_OPPONENT:nyk:2004-05\n",
      "SEASON_OPPONENT:nyk:2005-06\n",
      "SEASON_OPPONENT:nyk:2006-07\n",
      "SEASON_OPPONENT:nyk:2007-08\n",
      "SEASON_OPPONENT:nyk:2008-09\n",
      "SEASON_OPPONENT:nyk:2009-10\n",
      "SEASON_OPPONENT:nyk:2010-11\n",
      "SEASON_OPPONENT:nyk:2011-12\n",
      "SEASON_OPPONENT:nyk:2012-13\n",
      "SEASON_OPPONENT:nyk:2015-16\n",
      "SEASON_OPPONENT:okc:2008-09\n",
      "SEASON_OPPONENT:okc:2009-10\n",
      "SEASON_OPPONENT:okc:2010-11\n",
      "SEASON_OPPONENT:okc:2011-12\n",
      "SEASON_OPPONENT:okc:2012-13\n",
      "SEASON_OPPONENT:okc:2013-14\n",
      "SEASON_OPPONENT:okc:2014-15\n",
      "SEASON_OPPONENT:okc:2015-16\n",
      "SEASON_OPPONENT:orl:1996-97\n",
      "SEASON_OPPONENT:orl:1997-98\n",
      "SEASON_OPPONENT:orl:1998-99\n",
      "SEASON_OPPONENT:orl:1999-00\n",
      "SEASON_OPPONENT:orl:2000-01\n",
      "SEASON_OPPONENT:orl:2001-02\n",
      "SEASON_OPPONENT:orl:2002-03\n",
      "SEASON_OPPONENT:orl:2003-04\n",
      "SEASON_OPPONENT:orl:2004-05\n",
      "SEASON_OPPONENT:orl:2005-06\n",
      "SEASON_OPPONENT:orl:2006-07\n",
      "SEASON_OPPONENT:orl:2007-08\n",
      "SEASON_OPPONENT:orl:2008-09\n",
      "SEASON_OPPONENT:orl:2009-10\n",
      "SEASON_OPPONENT:orl:2010-11\n",
      "SEASON_OPPONENT:orl:2011-12\n",
      "SEASON_OPPONENT:orl:2012-13\n",
      "SEASON_OPPONENT:phi:1996-97\n",
      "SEASON_OPPONENT:phi:1997-98\n",
      "SEASON_OPPONENT:phi:1998-99\n",
      "SEASON_OPPONENT:phi:1999-00\n",
      "SEASON_OPPONENT:phi:2000-01\n",
      "SEASON_OPPONENT:phi:2001-02\n",
      "SEASON_OPPONENT:phi:2002-03\n",
      "SEASON_OPPONENT:phi:2003-04\n",
      "SEASON_OPPONENT:phi:2004-05\n",
      "SEASON_OPPONENT:phi:2005-06\n",
      "SEASON_OPPONENT:phi:2006-07\n",
      "SEASON_OPPONENT:phi:2007-08\n",
      "SEASON_OPPONENT:phi:2008-09\n",
      "SEASON_OPPONENT:phi:2009-10\n",
      "SEASON_OPPONENT:phi:2010-11\n",
      "SEASON_OPPONENT:phi:2011-12\n",
      "SEASON_OPPONENT:phi:2012-13\n",
      "SEASON_OPPONENT:phi:2015-16\n",
      "SEASON_OPPONENT:phx:1996-97\n",
      "SEASON_OPPONENT:phx:1997-98\n",
      "SEASON_OPPONENT:phx:1998-99\n",
      "SEASON_OPPONENT:phx:1999-00\n",
      "SEASON_OPPONENT:phx:2000-01\n",
      "SEASON_OPPONENT:phx:2001-02\n",
      "SEASON_OPPONENT:phx:2002-03\n",
      "SEASON_OPPONENT:phx:2003-04\n",
      "SEASON_OPPONENT:phx:2004-05\n",
      "SEASON_OPPONENT:phx:2005-06\n",
      "SEASON_OPPONENT:phx:2006-07\n",
      "SEASON_OPPONENT:phx:2007-08\n",
      "SEASON_OPPONENT:phx:2008-09\n",
      "SEASON_OPPONENT:phx:2009-10\n",
      "SEASON_OPPONENT:phx:2010-11\n",
      "SEASON_OPPONENT:phx:2011-12\n",
      "SEASON_OPPONENT:phx:2012-13\n",
      "SEASON_OPPONENT:phx:2013-14\n",
      "SEASON_OPPONENT:phx:2014-15\n",
      "SEASON_OPPONENT:phx:2015-16\n",
      "SEASON_OPPONENT:por:1996-97\n",
      "SEASON_OPPONENT:por:1997-98\n",
      "SEASON_OPPONENT:por:1998-99\n",
      "SEASON_OPPONENT:por:1999-00\n",
      "SEASON_OPPONENT:por:2000-01\n",
      "SEASON_OPPONENT:por:2001-02\n",
      "SEASON_OPPONENT:por:2002-03\n",
      "SEASON_OPPONENT:por:2003-04\n",
      "SEASON_OPPONENT:por:2004-05\n",
      "SEASON_OPPONENT:por:2005-06\n",
      "SEASON_OPPONENT:por:2006-07\n",
      "SEASON_OPPONENT:por:2007-08\n",
      "SEASON_OPPONENT:por:2008-09\n",
      "SEASON_OPPONENT:por:2009-10\n",
      "SEASON_OPPONENT:por:2010-11\n",
      "SEASON_OPPONENT:por:2011-12\n",
      "SEASON_OPPONENT:por:2012-13\n",
      "SEASON_OPPONENT:por:2015-16\n",
      "SEASON_OPPONENT:sac:1996-97\n",
      "SEASON_OPPONENT:sac:1997-98\n",
      "SEASON_OPPONENT:sac:1998-99\n",
      "SEASON_OPPONENT:sac:1999-00\n",
      "SEASON_OPPONENT:sac:2000-01\n",
      "SEASON_OPPONENT:sac:2001-02\n",
      "SEASON_OPPONENT:sac:2002-03\n",
      "SEASON_OPPONENT:sac:2003-04\n",
      "SEASON_OPPONENT:sac:2004-05\n",
      "SEASON_OPPONENT:sac:2005-06\n",
      "SEASON_OPPONENT:sac:2006-07\n",
      "SEASON_OPPONENT:sac:2007-08\n",
      "SEASON_OPPONENT:sac:2008-09\n",
      "SEASON_OPPONENT:sac:2009-10\n",
      "SEASON_OPPONENT:sac:2010-11\n",
      "SEASON_OPPONENT:sac:2011-12\n",
      "SEASON_OPPONENT:sac:2012-13\n",
      "SEASON_OPPONENT:sac:2014-15\n",
      "SEASON_OPPONENT:sac:2015-16\n",
      "SEASON_OPPONENT:sas:1996-97\n",
      "SEASON_OPPONENT:sas:1997-98\n",
      "SEASON_OPPONENT:sas:1998-99\n",
      "SEASON_OPPONENT:sas:1999-00\n",
      "SEASON_OPPONENT:sas:2000-01\n",
      "SEASON_OPPONENT:sas:2001-02\n",
      "SEASON_OPPONENT:sas:2002-03\n",
      "SEASON_OPPONENT:sas:2003-04\n",
      "SEASON_OPPONENT:sas:2004-05\n",
      "SEASON_OPPONENT:sas:2005-06\n",
      "SEASON_OPPONENT:sas:2006-07\n",
      "SEASON_OPPONENT:sas:2007-08\n",
      "SEASON_OPPONENT:sas:2008-09\n",
      "SEASON_OPPONENT:sas:2009-10\n",
      "SEASON_OPPONENT:sas:2010-11\n",
      "SEASON_OPPONENT:sas:2011-12\n",
      "SEASON_OPPONENT:sas:2012-13\n",
      "SEASON_OPPONENT:sas:2014-15\n",
      "SEASON_OPPONENT:sas:2015-16\n",
      "SEASON_OPPONENT:sea:1996-97\n",
      "SEASON_OPPONENT:sea:1997-98\n",
      "SEASON_OPPONENT:sea:1998-99\n",
      "SEASON_OPPONENT:sea:1999-00\n",
      "SEASON_OPPONENT:sea:2000-01\n",
      "SEASON_OPPONENT:sea:2001-02\n",
      "SEASON_OPPONENT:sea:2002-03\n",
      "SEASON_OPPONENT:sea:2003-04\n",
      "SEASON_OPPONENT:sea:2004-05\n",
      "SEASON_OPPONENT:sea:2005-06\n",
      "SEASON_OPPONENT:sea:2006-07\n",
      "SEASON_OPPONENT:sea:2007-08\n",
      "SEASON_OPPONENT:tor:1996-97\n",
      "SEASON_OPPONENT:tor:1997-98\n",
      "SEASON_OPPONENT:tor:1999-00\n",
      "SEASON_OPPONENT:tor:2000-01\n",
      "SEASON_OPPONENT:tor:2001-02\n",
      "SEASON_OPPONENT:tor:2002-03\n",
      "SEASON_OPPONENT:tor:2003-04\n",
      "SEASON_OPPONENT:tor:2004-05\n",
      "SEASON_OPPONENT:tor:2005-06\n",
      "SEASON_OPPONENT:tor:2006-07\n",
      "SEASON_OPPONENT:tor:2007-08\n",
      "SEASON_OPPONENT:tor:2008-09\n",
      "SEASON_OPPONENT:tor:2009-10\n",
      "SEASON_OPPONENT:tor:2010-11\n",
      "SEASON_OPPONENT:tor:2011-12\n",
      "SEASON_OPPONENT:tor:2012-13\n",
      "SEASON_OPPONENT:tor:2013-14\n",
      "SEASON_OPPONENT:tor:2014-15\n",
      "SEASON_OPPONENT:tor:2015-16\n",
      "SEASON_OPPONENT:uta:1996-97\n",
      "SEASON_OPPONENT:uta:1997-98\n",
      "SEASON_OPPONENT:uta:1998-99\n",
      "SEASON_OPPONENT:uta:1999-00\n",
      "SEASON_OPPONENT:uta:2000-01\n",
      "SEASON_OPPONENT:uta:2001-02\n",
      "SEASON_OPPONENT:uta:2002-03\n",
      "SEASON_OPPONENT:uta:2003-04\n",
      "SEASON_OPPONENT:uta:2004-05\n",
      "SEASON_OPPONENT:uta:2005-06\n",
      "SEASON_OPPONENT:uta:2006-07\n",
      "SEASON_OPPONENT:uta:2007-08\n",
      "SEASON_OPPONENT:uta:2008-09\n",
      "SEASON_OPPONENT:uta:2009-10\n",
      "SEASON_OPPONENT:uta:2010-11\n",
      "SEASON_OPPONENT:uta:2011-12\n",
      "SEASON_OPPONENT:uta:2012-13\n",
      "SEASON_OPPONENT:uta:2015-16\n",
      "SEASON_OPPONENT:van:1996-97\n",
      "SEASON_OPPONENT:van:1997-98\n",
      "SEASON_OPPONENT:van:1998-99\n",
      "SEASON_OPPONENT:van:1999-00\n",
      "SEASON_OPPONENT:van:2000-01\n",
      "SEASON_OPPONENT:was:1996-97\n",
      "SEASON_OPPONENT:was:1997-98\n",
      "SEASON_OPPONENT:was:1999-00\n",
      "SEASON_OPPONENT:was:2000-01\n",
      "SEASON_OPPONENT:was:2001-02\n",
      "SEASON_OPPONENT:was:2002-03\n",
      "SEASON_OPPONENT:was:2003-04\n",
      "SEASON_OPPONENT:was:2004-05\n",
      "SEASON_OPPONENT:was:2005-06\n",
      "SEASON_OPPONENT:was:2006-07\n",
      "SEASON_OPPONENT:was:2007-08\n",
      "SEASON_OPPONENT:was:2008-09\n",
      "SEASON_OPPONENT:was:2009-10\n",
      "SEASON_OPPONENT:was:2010-11\n",
      "SEASON_OPPONENT:was:2011-12\n",
      "SEASON_OPPONENT:was:2012-13\n",
      "SEASON_OPPONENT:was:2014-15\n",
      "SEASON_OPPONENT:was:2015-16\n",
      "SEASON:1996-97\n",
      "SEASON:1997-98\n",
      "SEASON:1998-99\n",
      "SEASON:1999-00\n",
      "SEASON:2000-01\n",
      "SEASON:2001-02\n",
      "SEASON:2002-03\n",
      "SEASON:2003-04\n",
      "SEASON:2004-05\n",
      "SEASON:2005-06\n",
      "SEASON:2006-07\n",
      "SEASON:2007-08\n",
      "SEASON:2008-09\n",
      "SEASON:2009-10\n",
      "SEASON:2010-11\n",
      "SEASON:2011-12\n",
      "SEASON:2012-13\n",
      "SEASON:2013-14\n",
      "SEASON:2014-15\n",
      "SEASON:2015-16\n",
      "MONTH\n",
      "PLAYOFFS\n",
      "MEAN_X_POSITION\n",
      "MEAN_Y_POSITION\n",
      "MEAN_SHOT_DISTANCE\n",
      "MEAN_SHOT_ANGLE\n",
      "SHOT_ZONE_RANGE:16-24_ft.\n",
      "SHOT_ZONE_RANGE:24+_ft.\n",
      "SHOT_ZONE_RANGE:8-16_ft.\n",
      "SHOT_ZONE_RANGE:back_court_shot\n",
      "SHOT_ZONE_RANGE:less_than_8_ft.\n",
      "SHOT_ZONE_BASIC:above_the_break_3\n",
      "SHOT_ZONE_BASIC:backcourt\n",
      "SHOT_ZONE_BASIC:in_the_paint_(non-ra)\n",
      "SHOT_ZONE_BASIC:left_corner_3\n",
      "SHOT_ZONE_BASIC:mid-range\n",
      "SHOT_ZONE_BASIC:restricted_area\n",
      "SHOT_ZONE_BASIC:right_corner_3\n",
      "SHOT_ZONE_AREA:back_court(bc)\n",
      "SHOT_ZONE_AREA:center(c)\n",
      "SHOT_ZONE_AREA:left_side_center(lc)\n",
      "SHOT_ZONE_AREA:left_side(l)\n",
      "SHOT_ZONE_AREA:right_side_center(rc)\n",
      "SHOT_ZONE_AREA:right_side(r)\n",
      "SHOT_TYPE:2pt_field_goal\n",
      "SHOT_TYPE:3pt_field_goal\n",
      "COMBINED_SHOT_TYPE:bank_shot\n",
      "COMBINED_SHOT_TYPE:dunk\n",
      "COMBINED_SHOT_TYPE:hook_shot\n",
      "COMBINED_SHOT_TYPE:jump_shot\n",
      "COMBINED_SHOT_TYPE:layup\n",
      "COMBINED_SHOT_TYPE:tip_shot\n",
      "SECONDS_REMAINING\n",
      "MINUTES_REMAINING\n",
      "PERIOD\n",
      "ACTION_TYPE:alley_oop_dunk_shot\n",
      "ACTION_TYPE:alley_oop_layup_shot\n",
      "ACTION_TYPE:cutting_finger_roll_layup_shot\n",
      "ACTION_TYPE:cutting_layup_shot\n",
      "ACTION_TYPE:driving_bank_shot\n",
      "ACTION_TYPE:driving_dunk_shot\n",
      "ACTION_TYPE:driving_finger_roll_layup_shot\n",
      "ACTION_TYPE:driving_finger_roll_shot\n",
      "ACTION_TYPE:driving_floating_bank_jump_shot\n",
      "ACTION_TYPE:driving_floating_jump_shot\n",
      "ACTION_TYPE:driving_hook_shot\n",
      "ACTION_TYPE:driving_jump_shot\n",
      "ACTION_TYPE:driving_layup_shot\n",
      "ACTION_TYPE:driving_reverse_layup_shot\n",
      "ACTION_TYPE:driving_slam_dunk_shot\n",
      "ACTION_TYPE:dunk_shot\n",
      "ACTION_TYPE:fadeaway_bank_shot\n",
      "ACTION_TYPE:fadeaway_jump_shot\n",
      "ACTION_TYPE:finger_roll_layup_shot\n",
      "ACTION_TYPE:finger_roll_shot\n",
      "ACTION_TYPE:floating_jump_shot\n",
      "ACTION_TYPE:follow_up_dunk_shot\n",
      "ACTION_TYPE:hook_bank_shot\n",
      "ACTION_TYPE:hook_shot\n",
      "ACTION_TYPE:jump_bank_shot\n",
      "ACTION_TYPE:jump_hook_shot\n",
      "ACTION_TYPE:jump_shot\n",
      "ACTION_TYPE:layup_shot\n",
      "ACTION_TYPE:pullup_bank_shot\n",
      "ACTION_TYPE:pullup_jump_shot\n",
      "ACTION_TYPE:putback_dunk_shot\n",
      "ACTION_TYPE:putback_layup_shot\n",
      "ACTION_TYPE:putback_slam_dunk_shot\n",
      "ACTION_TYPE:reverse_dunk_shot\n",
      "ACTION_TYPE:reverse_layup_shot\n",
      "ACTION_TYPE:reverse_slam_dunk_shot\n",
      "ACTION_TYPE:running_bank_shot\n",
      "ACTION_TYPE:running_dunk_shot\n",
      "ACTION_TYPE:running_finger_roll_layup_shot\n",
      "ACTION_TYPE:running_finger_roll_shot\n",
      "ACTION_TYPE:running_hook_shot\n",
      "ACTION_TYPE:running_jump_shot\n",
      "ACTION_TYPE:running_layup_shot\n",
      "ACTION_TYPE:running_pull-up_jump_shot\n",
      "ACTION_TYPE:running_reverse_layup_shot\n",
      "ACTION_TYPE:running_slam_dunk_shot\n",
      "ACTION_TYPE:running_tip_shot\n",
      "ACTION_TYPE:slam_dunk_shot\n",
      "ACTION_TYPE:step_back_jump_shot\n",
      "ACTION_TYPE:tip_layup_shot\n",
      "ACTION_TYPE:tip_shot\n",
      "ACTION_TYPE:turnaround_bank_shot\n",
      "ACTION_TYPE:turnaround_fadeaway_bank_jump_shot\n",
      "ACTION_TYPE:turnaround_fadeaway_shot\n",
      "ACTION_TYPE:turnaround_finger_roll_shot\n",
      "ACTION_TYPE:turnaround_hook_shot\n",
      "ACTION_TYPE:turnaround_jump_shot\n",
      "SEASON_GAME_NUMBER\n",
      "CAREER_GAME_NUMBER\n"
     ]
    }
   ],
   "source": [
    "for col in kobe.columns:\n",
    "    print col"
   ]
  },
  {
   "cell_type": "code",
   "execution_count": 10,
   "metadata": {},
   "outputs": [
    {
     "data": {
      "text/plain": [
       "array([0, 1], dtype=int64)"
      ]
     },
     "execution_count": 10,
     "metadata": {},
     "output_type": "execute_result"
    }
   ],
   "source": [
    "kobe[\"AWAY_GAME\"].unique()"
   ]
  },
  {
   "cell_type": "code",
   "execution_count": 6,
   "metadata": {},
   "outputs": [
    {
     "data": {
      "text/html": [
       "<div>\n",
       "<style>\n",
       "    .dataframe thead tr:only-child th {\n",
       "        text-align: right;\n",
       "    }\n",
       "\n",
       "    .dataframe thead th {\n",
       "        text-align: left;\n",
       "    }\n",
       "\n",
       "    .dataframe tbody tr th {\n",
       "        vertical-align: top;\n",
       "    }\n",
       "</style>\n",
       "<table border=\"1\" class=\"dataframe\">\n",
       "  <thead>\n",
       "    <tr style=\"text-align: right;\">\n",
       "      <th></th>\n",
       "      <th>SHOTS_MADE</th>\n",
       "      <th>AWAY_GAME</th>\n",
       "      <th>SEASON_OPPONENT:atl:1996-97</th>\n",
       "      <th>SEASON_OPPONENT:atl:1997-98</th>\n",
       "      <th>SEASON_OPPONENT:atl:1999-00</th>\n",
       "      <th>SEASON_OPPONENT:atl:2000-01</th>\n",
       "      <th>SEASON_OPPONENT:atl:2001-02</th>\n",
       "      <th>SEASON_OPPONENT:atl:2002-03</th>\n",
       "      <th>SEASON_OPPONENT:atl:2003-04</th>\n",
       "      <th>SEASON_OPPONENT:atl:2004-05</th>\n",
       "      <th>...</th>\n",
       "      <th>ACTION_TYPE:tip_layup_shot</th>\n",
       "      <th>ACTION_TYPE:tip_shot</th>\n",
       "      <th>ACTION_TYPE:turnaround_bank_shot</th>\n",
       "      <th>ACTION_TYPE:turnaround_fadeaway_bank_jump_shot</th>\n",
       "      <th>ACTION_TYPE:turnaround_fadeaway_shot</th>\n",
       "      <th>ACTION_TYPE:turnaround_finger_roll_shot</th>\n",
       "      <th>ACTION_TYPE:turnaround_hook_shot</th>\n",
       "      <th>ACTION_TYPE:turnaround_jump_shot</th>\n",
       "      <th>SEASON_GAME_NUMBER</th>\n",
       "      <th>CAREER_GAME_NUMBER</th>\n",
       "    </tr>\n",
       "  </thead>\n",
       "  <tbody>\n",
       "    <tr>\n",
       "      <th>0</th>\n",
       "      <td>0.0</td>\n",
       "      <td>0</td>\n",
       "      <td>0.0</td>\n",
       "      <td>0.0</td>\n",
       "      <td>0.0</td>\n",
       "      <td>0.0</td>\n",
       "      <td>0.0</td>\n",
       "      <td>0.0</td>\n",
       "      <td>0.0</td>\n",
       "      <td>0.0</td>\n",
       "      <td>...</td>\n",
       "      <td>0.0</td>\n",
       "      <td>0.0</td>\n",
       "      <td>0.0</td>\n",
       "      <td>0.0</td>\n",
       "      <td>0.0</td>\n",
       "      <td>0.0</td>\n",
       "      <td>0.0</td>\n",
       "      <td>0.0</td>\n",
       "      <td>1</td>\n",
       "      <td>1</td>\n",
       "    </tr>\n",
       "    <tr>\n",
       "      <th>1</th>\n",
       "      <td>0.0</td>\n",
       "      <td>1</td>\n",
       "      <td>0.0</td>\n",
       "      <td>0.0</td>\n",
       "      <td>0.0</td>\n",
       "      <td>0.0</td>\n",
       "      <td>0.0</td>\n",
       "      <td>0.0</td>\n",
       "      <td>0.0</td>\n",
       "      <td>0.0</td>\n",
       "      <td>...</td>\n",
       "      <td>0.0</td>\n",
       "      <td>0.0</td>\n",
       "      <td>0.0</td>\n",
       "      <td>0.0</td>\n",
       "      <td>0.0</td>\n",
       "      <td>0.0</td>\n",
       "      <td>0.0</td>\n",
       "      <td>0.0</td>\n",
       "      <td>2</td>\n",
       "      <td>2</td>\n",
       "    </tr>\n",
       "    <tr>\n",
       "      <th>2</th>\n",
       "      <td>2.0</td>\n",
       "      <td>1</td>\n",
       "      <td>0.0</td>\n",
       "      <td>0.0</td>\n",
       "      <td>0.0</td>\n",
       "      <td>0.0</td>\n",
       "      <td>0.0</td>\n",
       "      <td>0.0</td>\n",
       "      <td>0.0</td>\n",
       "      <td>0.0</td>\n",
       "      <td>...</td>\n",
       "      <td>0.0</td>\n",
       "      <td>0.0</td>\n",
       "      <td>0.0</td>\n",
       "      <td>0.0</td>\n",
       "      <td>0.0</td>\n",
       "      <td>0.0</td>\n",
       "      <td>0.0</td>\n",
       "      <td>0.0</td>\n",
       "      <td>3</td>\n",
       "      <td>3</td>\n",
       "    </tr>\n",
       "    <tr>\n",
       "      <th>3</th>\n",
       "      <td>2.0</td>\n",
       "      <td>1</td>\n",
       "      <td>0.0</td>\n",
       "      <td>0.0</td>\n",
       "      <td>0.0</td>\n",
       "      <td>0.0</td>\n",
       "      <td>0.0</td>\n",
       "      <td>0.0</td>\n",
       "      <td>0.0</td>\n",
       "      <td>0.0</td>\n",
       "      <td>...</td>\n",
       "      <td>0.0</td>\n",
       "      <td>0.0</td>\n",
       "      <td>0.0</td>\n",
       "      <td>0.0</td>\n",
       "      <td>0.0</td>\n",
       "      <td>0.0</td>\n",
       "      <td>0.0</td>\n",
       "      <td>0.0</td>\n",
       "      <td>4</td>\n",
       "      <td>4</td>\n",
       "    </tr>\n",
       "    <tr>\n",
       "      <th>4</th>\n",
       "      <td>0.0</td>\n",
       "      <td>0</td>\n",
       "      <td>1.0</td>\n",
       "      <td>0.0</td>\n",
       "      <td>0.0</td>\n",
       "      <td>0.0</td>\n",
       "      <td>0.0</td>\n",
       "      <td>0.0</td>\n",
       "      <td>0.0</td>\n",
       "      <td>0.0</td>\n",
       "      <td>...</td>\n",
       "      <td>0.0</td>\n",
       "      <td>0.0</td>\n",
       "      <td>0.0</td>\n",
       "      <td>0.0</td>\n",
       "      <td>0.0</td>\n",
       "      <td>0.0</td>\n",
       "      <td>0.0</td>\n",
       "      <td>0.0</td>\n",
       "      <td>5</td>\n",
       "      <td>5</td>\n",
       "    </tr>\n",
       "  </tbody>\n",
       "</table>\n",
       "<p>5 rows × 645 columns</p>\n",
       "</div>"
      ],
      "text/plain": [
       "   SHOTS_MADE  AWAY_GAME  SEASON_OPPONENT:atl:1996-97  \\\n",
       "0         0.0          0                          0.0   \n",
       "1         0.0          1                          0.0   \n",
       "2         2.0          1                          0.0   \n",
       "3         2.0          1                          0.0   \n",
       "4         0.0          0                          1.0   \n",
       "\n",
       "   SEASON_OPPONENT:atl:1997-98  SEASON_OPPONENT:atl:1999-00  \\\n",
       "0                          0.0                          0.0   \n",
       "1                          0.0                          0.0   \n",
       "2                          0.0                          0.0   \n",
       "3                          0.0                          0.0   \n",
       "4                          0.0                          0.0   \n",
       "\n",
       "   SEASON_OPPONENT:atl:2000-01  SEASON_OPPONENT:atl:2001-02  \\\n",
       "0                          0.0                          0.0   \n",
       "1                          0.0                          0.0   \n",
       "2                          0.0                          0.0   \n",
       "3                          0.0                          0.0   \n",
       "4                          0.0                          0.0   \n",
       "\n",
       "   SEASON_OPPONENT:atl:2002-03  SEASON_OPPONENT:atl:2003-04  \\\n",
       "0                          0.0                          0.0   \n",
       "1                          0.0                          0.0   \n",
       "2                          0.0                          0.0   \n",
       "3                          0.0                          0.0   \n",
       "4                          0.0                          0.0   \n",
       "\n",
       "   SEASON_OPPONENT:atl:2004-05         ...          \\\n",
       "0                          0.0         ...           \n",
       "1                          0.0         ...           \n",
       "2                          0.0         ...           \n",
       "3                          0.0         ...           \n",
       "4                          0.0         ...           \n",
       "\n",
       "   ACTION_TYPE:tip_layup_shot  ACTION_TYPE:tip_shot  \\\n",
       "0                         0.0                   0.0   \n",
       "1                         0.0                   0.0   \n",
       "2                         0.0                   0.0   \n",
       "3                         0.0                   0.0   \n",
       "4                         0.0                   0.0   \n",
       "\n",
       "   ACTION_TYPE:turnaround_bank_shot  \\\n",
       "0                               0.0   \n",
       "1                               0.0   \n",
       "2                               0.0   \n",
       "3                               0.0   \n",
       "4                               0.0   \n",
       "\n",
       "   ACTION_TYPE:turnaround_fadeaway_bank_jump_shot  \\\n",
       "0                                             0.0   \n",
       "1                                             0.0   \n",
       "2                                             0.0   \n",
       "3                                             0.0   \n",
       "4                                             0.0   \n",
       "\n",
       "   ACTION_TYPE:turnaround_fadeaway_shot  \\\n",
       "0                                   0.0   \n",
       "1                                   0.0   \n",
       "2                                   0.0   \n",
       "3                                   0.0   \n",
       "4                                   0.0   \n",
       "\n",
       "   ACTION_TYPE:turnaround_finger_roll_shot  ACTION_TYPE:turnaround_hook_shot  \\\n",
       "0                                      0.0                               0.0   \n",
       "1                                      0.0                               0.0   \n",
       "2                                      0.0                               0.0   \n",
       "3                                      0.0                               0.0   \n",
       "4                                      0.0                               0.0   \n",
       "\n",
       "   ACTION_TYPE:turnaround_jump_shot  SEASON_GAME_NUMBER  CAREER_GAME_NUMBER  \n",
       "0                               0.0                   1                   1  \n",
       "1                               0.0                   2                   2  \n",
       "2                               0.0                   3                   3  \n",
       "3                               0.0                   4                   4  \n",
       "4                               0.0                   5                   5  \n",
       "\n",
       "[5 rows x 645 columns]"
      ]
     },
     "execution_count": 6,
     "metadata": {},
     "output_type": "execute_result"
    }
   ],
   "source": [
    "kobe.head()"
   ]
  },
  {
   "cell_type": "code",
   "execution_count": 16,
   "metadata": {},
   "outputs": [],
   "source": [
    "#column mask:\n",
    "column_mask = kobe.filter(like=\"SEASON_OPPONENT\").loc[0,:].astype(bool)"
   ]
  },
  {
   "cell_type": "code",
   "execution_count": 18,
   "metadata": {},
   "outputs": [
    {
     "data": {
      "text/plain": [
       "SEASON_OPPONENT:min:1996-97    1.0\n",
       "Name: 0, dtype: float64"
      ]
     },
     "execution_count": 18,
     "metadata": {},
     "output_type": "execute_result"
    }
   ],
   "source": [
    "kobe.filter(like=\"SEASON_OPPONENT\").loc[0,column_mask]"
   ]
  },
  {
   "cell_type": "markdown",
   "metadata": {},
   "source": [
    "---\n",
    "\n",
    "### 3.  Prepare the dataset for training AND validation\n",
    "\n",
    "- Make predictor matrix `X` and target variable `y`\n",
    "- Split your data into a validation set using `train_test_split`"
   ]
  },
  {
   "cell_type": "code",
   "execution_count": 19,
   "metadata": {
    "collapsed": true
   },
   "outputs": [],
   "source": [
    "# A:\n",
    "X = kobe.drop(\"SHOTS_MADE\", axis = 1)\n",
    "y = kobe[\"SHOTS_MADE\"]\n",
    "#make sure X and y have the same number of rows:"
   ]
  },
  {
   "cell_type": "code",
   "execution_count": 22,
   "metadata": {},
   "outputs": [
    {
     "data": {
      "text/plain": [
       "True"
      ]
     },
     "execution_count": 22,
     "metadata": {},
     "output_type": "execute_result"
    }
   ],
   "source": [
    "X.shape[0] == y.shape[0]"
   ]
  },
  {
   "cell_type": "code",
   "execution_count": 23,
   "metadata": {
    "collapsed": true
   },
   "outputs": [],
   "source": [
    "d"
   ]
  },
  {
   "cell_type": "code",
   "execution_count": 25,
   "metadata": {},
   "outputs": [
    {
     "name": "stdout",
     "output_type": "stream",
     "text": [
      "(1168, 644)\n",
      "(1168L,)\n"
     ]
    }
   ],
   "source": [
    "print X_train.shape\n",
    "print y_train.shape"
   ]
  },
  {
   "cell_type": "markdown",
   "metadata": {},
   "source": [
    "---\n",
    "\n",
    "### 4. Build a linear regression predicting `SHOTS_MADE` from the rest of the columns.\n",
    "\n",
    "1. How does it perform? Keep the regression metrics we talked about on Tuesday in mind, like mean squared error, mean absolute error, and $R^2$\n",
    "2. Is there a disparity between your train set and your test set? What does that indicate?"
   ]
  },
  {
   "cell_type": "code",
   "execution_count": 26,
   "metadata": {},
   "outputs": [
    {
     "data": {
      "text/plain": [
       "LinearRegression(copy_X=True, fit_intercept=True, n_jobs=1, normalize=False)"
      ]
     },
     "execution_count": 26,
     "metadata": {},
     "output_type": "execute_result"
    }
   ],
   "source": [
    "lr = LinearRegression()\n",
    "lr.fit(X_train, y_train)"
   ]
  },
  {
   "cell_type": "code",
   "execution_count": 32,
   "metadata": {},
   "outputs": [
    {
     "name": "stdout",
     "output_type": "stream",
     "text": [
      "R2 on train: 0.832851743809\n",
      "R2 on test: -1.2606664904e+17\n"
     ]
    }
   ],
   "source": [
    "lr_r2_train = lr.score(X_train, y_train)\n",
    "lr_r2_test = lr.score(X_test, y_test)\n",
    "\n",
    "print \"R2 on train: {}\".format(lr_r2_train)\n",
    "print \"R2 on test: {}\".format(lr_r2_test)"
   ]
  },
  {
   "cell_type": "code",
   "execution_count": 43,
   "metadata": {},
   "outputs": [
    {
     "name": "stdout",
     "output_type": "stream",
     "text": [
      "R2 on train: 0.818126957343\n",
      "R2 on test: -7.08624022966e+15\n"
     ]
    }
   ],
   "source": [
    "X_train, X_test, y_train, y_test = train_test_split(X, y, test_size = 0.10)\n",
    "\n",
    "lr = LinearRegression()\n",
    "lr.fit(X_train, y_train)\n",
    "\n",
    "lr_r2_train = lr.score(X_train, y_train)\n",
    "lr_r2_test = lr.score(X_test, y_test)\n",
    "\n",
    "print \"R2 on train: {}\".format(lr_r2_train)\n",
    "print \"R2 on test: {}\".format(lr_r2_test)"
   ]
  },
  {
   "cell_type": "markdown",
   "metadata": {},
   "source": [
    "### What's causing this?\n",
    "\n",
    "- Too many predictor columns\n",
    "- Too few rows compared to columns\n",
    "- Potential multi-colinearity (same data multiple columns)\n",
    "    -Even if not present here, it's something to look out for"
   ]
  },
  {
   "cell_type": "code",
   "execution_count": 44,
   "metadata": {},
   "outputs": [
    {
     "data": {
      "text/plain": [
       "<matplotlib.axes._subplots.AxesSubplot at 0x11d398d0>"
      ]
     },
     "execution_count": 44,
     "metadata": {},
     "output_type": "execute_result"
    },
    {
     "data": {
      "image/png": "[encoded data removed]",
      "text/plain": [
       "<matplotlib.figure.Figure at 0xf0bbdd8>"
      ]
     },
     "metadata": {
      "image/png": {
       "height": 404,
       "width": 533
      }
     },
     "output_type": "display_data"
    }
   ],
   "source": [
    "sns.heatmap(X.iloc[:, 60:100].corr())"
   ]
  },
  {
   "cell_type": "markdown",
   "metadata": {},
   "source": [
    "# <font color=blue> Interlude</font> - Slides\n",
    "\n",
    "Sit back and enjoy the show...\n",
    "\n",
    "----\n",
    "# <font color=blue> Part II</font> - Addressing the problem"
   ]
  },
  {
   "cell_type": "markdown",
   "metadata": {},
   "source": [
    "---\n",
    "\n",
    "### 6. Try fitting ealuating a  `Ridge` model instead of a standard `LinearRegression`\n",
    "The ridge regression is a model _similar_ to the standard linear regression, but for now let it remain shrouded in an \\*air\\* of mystery.\n",
    "\n",
    "Is it better than the Linear regression? On the training set? On the test set? Why do you think that is?"
   ]
  },
  {
   "cell_type": "code",
   "execution_count": 49,
   "metadata": {},
   "outputs": [],
   "source": [
    "# A:\n",
    "\n",
    "ridge = Ridge()\n",
    "ridge.fit(X_train, y_train)\n",
    "\n",
    "ridge_coefs = pd.DataFrame(zip(X_train, ridge.coef_), columns=[\"feature\", \"coef\"])\n",
    "ridge_coefs[\"lr_coefs\"] = lr.coef_"
   ]
  },
  {
   "cell_type": "code",
   "execution_count": 51,
   "metadata": {},
   "outputs": [
    {
     "data": {
      "text/plain": [
       "<matplotlib.axes._subplots.AxesSubplot at 0x11855128>"
      ]
     },
     "execution_count": 51,
     "metadata": {},
     "output_type": "execute_result"
    },
    {
     "data": {
      "image/png": "[encoded data removed]",
      "text/plain": [
       "<matplotlib.figure.Figure at 0xf04ebe0>"
      ]
     },
     "metadata": {
      "image/png": {
       "height": 255,
       "width": 418
      }
     },
     "output_type": "display_data"
    }
   ],
   "source": [
    "ridge_coefs[[\"coef\", \"lr_coefs\"]].plot(kind=\"box\")"
   ]
  },
  {
   "cell_type": "code",
   "execution_count": 52,
   "metadata": {},
   "outputs": [
    {
     "data": {
      "text/plain": [
       "<matplotlib.axes._subplots.AxesSubplot at 0x11ed2a20>"
      ]
     },
     "execution_count": 52,
     "metadata": {},
     "output_type": "execute_result"
    },
    {
     "data": {
      "image/png": "[encoded data removed]",
      "text/plain": [
       "<matplotlib.figure.Figure at 0x118550f0>"
      ]
     },
     "metadata": {
      "image/png": {
       "height": 244,
       "width": 390
      }
     },
     "output_type": "display_data"
    }
   ],
   "source": [
    "sns.boxplot(ridge.coef_)"
   ]
  },
  {
   "cell_type": "code",
   "execution_count": 54,
   "metadata": {
    "scrolled": true
   },
   "outputs": [
    {
     "data": {
      "text/plain": [
       "<matplotlib.axes._subplots.AxesSubplot at 0x120a73c8>"
      ]
     },
     "execution_count": 54,
     "metadata": {},
     "output_type": "execute_result"
    },
    {
     "data": {
      "image/png": "[encoded data removed]",
      "text/plain": [
       "<matplotlib.figure.Figure at 0x11b16358>"
      ]
     },
     "metadata": {
      "image/png": {
       "height": 257,
       "width": 395
      }
     },
     "output_type": "display_data"
    }
   ],
   "source": [
    "sns.boxplot(lr.coef_)"
   ]
  },
  {
   "cell_type": "code",
   "execution_count": 56,
   "metadata": {},
   "outputs": [
    {
     "data": {
      "text/plain": [
       "550269789.94745278"
      ]
     },
     "execution_count": 56,
     "metadata": {},
     "output_type": "execute_result"
    }
   ],
   "source": [
    "lr.coef_.std()"
   ]
  },
  {
   "cell_type": "code",
   "execution_count": 57,
   "metadata": {},
   "outputs": [
    {
     "data": {
      "text/plain": [
       "107784626.93110527"
      ]
     },
     "execution_count": 57,
     "metadata": {},
     "output_type": "execute_result"
    }
   ],
   "source": [
    "lr.coef_.mean()"
   ]
  },
  {
   "cell_type": "code",
   "execution_count": 58,
   "metadata": {},
   "outputs": [
    {
     "data": {
      "text/plain": [
       "0.86242563655921534"
      ]
     },
     "execution_count": 58,
     "metadata": {},
     "output_type": "execute_result"
    }
   ],
   "source": [
    "ridge.coef_.std()"
   ]
  },
  {
   "cell_type": "code",
   "execution_count": 60,
   "metadata": {},
   "outputs": [
    {
     "data": {
      "text/html": [
       "<div>\n",
       "<style>\n",
       "    .dataframe thead tr:only-child th {\n",
       "        text-align: right;\n",
       "    }\n",
       "\n",
       "    .dataframe thead th {\n",
       "        text-align: left;\n",
       "    }\n",
       "\n",
       "    .dataframe tbody tr th {\n",
       "        vertical-align: top;\n",
       "    }\n",
       "</style>\n",
       "<table border=\"1\" class=\"dataframe\">\n",
       "  <thead>\n",
       "    <tr style=\"text-align: right;\">\n",
       "      <th></th>\n",
       "      <th>coef</th>\n",
       "      <th>lr_coefs</th>\n",
       "    </tr>\n",
       "  </thead>\n",
       "  <tbody>\n",
       "    <tr>\n",
       "      <th>count</th>\n",
       "      <td>644.000000</td>\n",
       "      <td>6.440000e+02</td>\n",
       "    </tr>\n",
       "    <tr>\n",
       "      <th>mean</th>\n",
       "      <td>0.001433</td>\n",
       "      <td>1.077846e+08</td>\n",
       "    </tr>\n",
       "    <tr>\n",
       "      <th>std</th>\n",
       "      <td>0.863096</td>\n",
       "      <td>5.506975e+08</td>\n",
       "    </tr>\n",
       "    <tr>\n",
       "      <th>min</th>\n",
       "      <td>-3.103098</td>\n",
       "      <td>-1.577828e+09</td>\n",
       "    </tr>\n",
       "    <tr>\n",
       "      <th>25%</th>\n",
       "      <td>-0.487486</td>\n",
       "      <td>-1.701191e+07</td>\n",
       "    </tr>\n",
       "    <tr>\n",
       "      <th>50%</th>\n",
       "      <td>0.000000</td>\n",
       "      <td>1.312813e+07</td>\n",
       "    </tr>\n",
       "    <tr>\n",
       "      <th>75%</th>\n",
       "      <td>0.527310</td>\n",
       "      <td>1.173704e+08</td>\n",
       "    </tr>\n",
       "    <tr>\n",
       "      <th>max</th>\n",
       "      <td>3.100821</td>\n",
       "      <td>1.377414e+09</td>\n",
       "    </tr>\n",
       "  </tbody>\n",
       "</table>\n",
       "</div>"
      ],
      "text/plain": [
       "             coef      lr_coefs\n",
       "count  644.000000  6.440000e+02\n",
       "mean     0.001433  1.077846e+08\n",
       "std      0.863096  5.506975e+08\n",
       "min     -3.103098 -1.577828e+09\n",
       "25%     -0.487486 -1.701191e+07\n",
       "50%      0.000000  1.312813e+07\n",
       "75%      0.527310  1.173704e+08\n",
       "max      3.100821  1.377414e+09"
      ]
     },
     "execution_count": 60,
     "metadata": {},
     "output_type": "execute_result"
    }
   ],
   "source": [
    "ridge_coefs.describe()"
   ]
  },
  {
   "cell_type": "code",
   "execution_count": 59,
   "metadata": {},
   "outputs": [
    {
     "data": {
      "text/plain": [
       "0.0014330493774580295"
      ]
     },
     "execution_count": 59,
     "metadata": {},
     "output_type": "execute_result"
    }
   ],
   "source": [
    "ridge.coef_.mean()"
   ]
  },
  {
   "cell_type": "markdown",
   "metadata": {},
   "source": [
    "---\n",
    "### 7. Examine your ridge model's coefficients\n",
    "\n",
    "Does anything jump out at you? Use any the tools we've learned so far like histograms, barplots, and other descriptive statistics to compare the ridge model's fit to the linear regression we used earlier.\n"
   ]
  },
  {
   "cell_type": "code",
   "execution_count": null,
   "metadata": {
    "collapsed": true
   },
   "outputs": [],
   "source": []
  },
  {
   "cell_type": "markdown",
   "metadata": {},
   "source": [
    "---\n",
    "\n",
    "### 8. Play around with the `alpha` hyper parameter\n",
    "\n",
    "How does this impact the coefficients of the fit model?\n",
    "\n",
    "#### EX:\n",
    "```python\n",
    "ridge = Ridge(alpha = 10.0)\n",
    "```\n",
    "\n",
    "Some good values to try might be `0`, `0.1`, `1.0`, `10`, `100`"
   ]
  },
  {
   "cell_type": "code",
   "execution_count": 7,
   "metadata": {
    "collapsed": true
   },
   "outputs": [],
   "source": [
    "# A:"
   ]
  },
  {
   "cell_type": "markdown",
   "metadata": {},
   "source": [
    "---\n",
    "\n",
    "### 9. Fit a `Lasso` model and examine it's coefficients\n",
    "\n",
    "Is it better than the Linear regression? Is it better than Ridge? What do the differences in results imply about the issues with the dataset?\n",
    "\n",
    "- Show the coefficient for variables, ordered from largest to smallest coefficient by absolute value.\n",
    "- What percent of the variables in the original dataset are \"zeroed-out\" by the lasso?\n",
    "- What are the most important predictors for how many shots Kobe made in a game?"
   ]
  },
  {
   "cell_type": "code",
   "execution_count": 8,
   "metadata": {
    "collapsed": true
   },
   "outputs": [],
   "source": [
    "# A:"
   ]
  },
  {
   "cell_type": "markdown",
   "metadata": {},
   "source": [
    "---\n",
    "\n",
    "### 10. Tune the alpha for your `Lasso` model\n",
    "\n",
    "How does this influence the coefficients? The model performance on the train and the test sets?"
   ]
  },
  {
   "cell_type": "code",
   "execution_count": 9,
   "metadata": {
    "collapsed": true
   },
   "outputs": [],
   "source": [
    "# A:"
   ]
  },
  {
   "cell_type": "markdown",
   "metadata": {},
   "source": [
    "---\n",
    "\n",
    "### 11. Synthesize what you've discovered\n",
    "\n",
    "Write a couple of sentences telling the story: \n",
    "- How did a standard linear regression perform on the Kobe dataset? What qualities of this dataset caused these results>\n",
    "- How did a Ridge perform in comparison? What clues could you glean from its coefficients? How does `alpha` seem to dictate the coefficients?\n",
    "- What about the the `Lasso`?\n",
    "- When will be useful?"
   ]
  },
  {
   "cell_type": "code",
   "execution_count": 10,
   "metadata": {
    "collapsed": true
   },
   "outputs": [],
   "source": [
    "# A:"
   ]
  }
 ],
 "metadata": {
  "kernelspec": {
   "display_name": "Python 2",
   "language": "python",
   "name": "python2"
  },
  "language_info": {
   "codemirror_mode": {
    "name": "ipython",
    "version": 2
   },
   "file_extension": ".py",
   "mimetype": "text/x-python",
   "name": "python",
   "nbconvert_exporter": "python",
   "pygments_lexer": "ipython2",
   "version": "2.7.14"
  }
 },
 "nbformat": 4,
 "nbformat_minor": 1
}
